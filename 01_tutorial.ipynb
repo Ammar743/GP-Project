{
 "cells": [
  {
   "cell_type": "markdown",
   "metadata": {
    "id": "9KPPEciuXYeF"
   },
   "source": [
    "## Packages and Imports\n",
    "In this tutorial, you will learn how to quantify model uncertainty using enemble, Monte Carlo dropout, and evidential deep learing techniques. To start with this notebook, you need to install three packages: \n",
    "- MONAI: A framework for deep learning in medical image analysis.\n",
    "- timm: A rich collection of many deep learning models pretrained on natural images.\n",
    "- Net:Cal: A package for model output calibration."
   ]
  },
  {
   "cell_type": "code",
   "execution_count": 1,
   "metadata": {
    "id": "iKotNSrpXYeI"
   },
   "outputs": [
    {
     "name": "stderr",
     "output_type": "stream",
     "text": [
      "c:\\Users\\ammar\\miniconda3\\envs\\tf\\lib\\site-packages\\tqdm\\auto.py:21: TqdmWarning: IProgress not found. Please update jupyter and ipywidgets. See https://ipywidgets.readthedocs.io/en/stable/user_install.html\n",
      "  from .autonotebook import tqdm as notebook_tqdm\n"
     ]
    }
   ],
   "source": [
    "from glob import glob\n",
    "import random\n",
    "import os\n",
    "import copy\n",
    "from tqdm import tqdm\n",
    "import monai as mn\n",
    "import numpy as np\n",
    "import torch\n",
    "import timm\n",
    "import math\n",
    "\n",
    "from sklearn.metrics import roc_auc_score\n",
    "import matplotlib.pyplot as plt\n",
    "%matplotlib inline\n",
    "from sklearn.calibration import calibration_curve"
   ]
  },
  {
   "cell_type": "markdown",
   "metadata": {
    "id": "bUiFqaclXYeJ"
   },
   "source": [
    "## Data Preperation\n",
    "For this notebook we will use a dataset from [Kermany et. al.](https://www.kaggle.com/datasets/paultimothymooney/chest-xray-pneumonia?datasetId=17810) that has a set of more than 5,000 pediatric chest radiographs, with and without pneumonia. We use MONAI for dataset preperation, as it has several medical image-specific augmentations and enables using them with a very simple interface. \n",
    "\n",
    "We create out datasets and dataloaders one here and use it in all of the upcomming experiments. In brief the following cell takes care of the following:\n",
    "\n",
    "1. Gets the list of files in the train, validation, and test folders of the dataset.\n",
    "2. Creates a dictionary of these file paths with their corresponding label (normal or pneumonia) to leverage MONAI's dictionary based augmentation pipeline.\n",
    "3. Defines training and validation transforms.\n",
    "4. Created datasets and dataloaders for each of the three sets."
   ]
  },
  {
   "cell_type": "code",
   "execution_count": 4,
   "metadata": {
    "id": "LxVvS-mvXYeJ"
   },
   "outputs": [],
   "source": [
    "# Global Variables\n",
    "DATA_DIR = 'data'\n",
    "MONAI_CACHE_DIR = 'data/cache_UQ'\n",
    "IMG_SIZE = 256\n",
    "BATCH_SIZE = 32\n",
    "EPOCHS = 3\n",
    "DEVICE = \"cuda:0\" if torch.cuda.is_available() else \"cpu\"\n",
    "MODEL_ARCHITECTURE = \"convnext_small\"\n",
    "\n",
    "# 1. Gets the list of files in the train, validation, and test folders of the dataset.\n",
    "train_files = glob(f\"{DATA_DIR}/train/*/*.jpeg\")\n",
    "val_files = glob(f\"{DATA_DIR}/val/*/*.jpeg\")\n",
    "test_files = glob(f\"{DATA_DIR}/test/*/*.jpeg\")\n",
    "\n",
    "# 2. Creates a dictionary of image paths and labels.\n",
    "def get_data_dict(files:list)-> dict:\n",
    "    \"\"\"creates a dictionary of image paths and labels\n",
    "\n",
    "    Args:\n",
    "        files (list): list of image paths\n",
    "\n",
    "    Returns:\n",
    "        dict: dictionary of image paths and labels\n",
    "    \"\"\"\n",
    "    final_dict = []\n",
    "    for file in files:\n",
    "        label = file.split(\"/\")[-2]\n",
    "        if label == \"NORMAL\":\n",
    "            label = 0\n",
    "        else:\n",
    "            label = 1\n",
    "        final_dict.append({\"img\": file, \"label\": label})\n",
    "\n",
    "    return final_dict\n",
    "\n",
    "train_data = get_data_dict(train_files)\n",
    "val_data = get_data_dict(val_files)\n",
    "test_data = get_data_dict(test_files)\n",
    "\n",
    "# 3. Defines training and validation transforms.\n",
    "train_transforms = mn.transforms.Compose([\n",
    "    mn.transforms.LoadImaged(keys=[\"img\"]),\n",
    "    mn.transforms.EnsureChannelFirstD(keys=[\"img\"]),\n",
    "    mn.transforms.LambdaD(keys=[\"img\"], func=lambda x: x[0:1, :,:]),\n",
    "    mn.transforms.ScaleIntensityd(keys=[\"img\"],minv=0.0, maxv=1.0,),\n",
    "    mn.transforms.ResizeD(keys=[\"img\"], spatial_size=IMG_SIZE, size_mode=\"longest\"),\n",
    "    mn.transforms.SpatialPadD(keys=[\"img\"], spatial_size=IMG_SIZE, method=\"symmetric\"),\n",
    "    mn.transforms.RandAffineD(keys='img', rotate_range=0.25, translate_range=int(IMG_SIZE * 0.05), scale_range=0.1, mode=\"bilinear\", padding_mode=\"zeros\", prob=0.8),\n",
    "    mn.transforms.RandFlipD(keys='img', spatial_axis=1, prob=0.5),\n",
    "    mn.transforms.RandGaussianNoiseD(keys='img', mean=0.5, std=0.2, prob=0.5),\n",
    "    mn.transforms.ToTensorD(keys=[\"img\"]),\n",
    "    mn.transforms.ToTensorD(keys=[\"label\"], dtype=torch.long),\n",
    "    mn.transforms.SelectItemsD(keys=[\"img\",\"label\"]),\n",
    "])\n",
    "\n",
    "val_transforms = mn.transforms.Compose([\n",
    "    mn.transforms.LoadImaged(keys=[\"img\"]),\n",
    "    mn.transforms.EnsureChannelFirstD(keys=[\"img\"]),\n",
    "    mn.transforms.LambdaD(keys=[\"img\"], func=lambda x: x[0:1, :,:]),\n",
    "    mn.transforms.ResizeD(keys=[\"img\"], spatial_size=IMG_SIZE, size_mode=\"longest\"),\n",
    "    mn.transforms.SpatialPadD(keys=[\"img\"], spatial_size=IMG_SIZE, method=\"symmetric\"),\n",
    "    mn.transforms.ToTensorD(keys=[\"img\"]),\n",
    "    mn.transforms.ToTensorD(keys=[\"label\"], dtype=torch.long),\n",
    "    mn.transforms.SelectItemsD(keys=[\"img\",\"label\"]),\n",
    "])\n",
    "\n",
    "# 4. Creates a dataset and a dataloader.\n",
    "train_ds = mn.data.PersistentDataset(data=train_data, transform=train_transforms, cache_dir=MONAI_CACHE_DIR)\n",
    "val_ds = mn.data.PersistentDataset(data=val_data, transform=val_transforms, cache_dir=MONAI_CACHE_DIR)\n",
    "test_ds = mn.data.Dataset(data=test_data, transform=val_transforms)\n",
    "\n",
    "def get_dataloaders(train_ds=train_ds, val_ds=val_ds, test_ds=test_ds, batch_size=BATCH_SIZE):\n",
    "    \"\"\"Creates a dataloader for the train, validation, and test datasets.\n",
    "\n",
    "    Args:\n",
    "        train_ds (PersistentDataset, optional): Training dataset. Defaults to train_ds.\n",
    "        val_ds (PersistentDataset, optional): Validation dataset. Defaults to val_ds.\n",
    "        test_ds (Dataset, optional): Test dataset. Defaults to test_ds.\n",
    "        batch_size (int, optional): Batch size. Defaults to BATCH_SIZE.\n",
    "\n",
    "    Returns:\n",
    "        DataLoader: Dataloader for the train dataset.\n",
    "        DataLoader: Dataloader for the validation dataset.\n",
    "        DataLoader: Dataloader for the test dataset.\n",
    "    \"\"\"\n",
    "    def seed_worker(worker_id):\n",
    "        worker_seed = torch.initial_seed() % 2**32\n",
    "        np.random.seed(worker_seed)\n",
    "        random.seed(worker_seed)\n",
    "\n",
    "    train_loader = torch.utils.data.DataLoader(train_ds, batch_size=batch_size, shuffle=True, drop_last=True, num_workers=4, worker_init_fn=seed_worker)\n",
    "    val_loader = torch.utils.data.DataLoader(val_ds, batch_size=batch_size, shuffle=False, drop_last=False, num_workers=2, worker_init_fn=seed_worker)\n",
    "    test_loader = torch.utils.data.DataLoader(test_ds, batch_size=1, shuffle=False, drop_last=False, num_workers=2, worker_init_fn=seed_worker)\n",
    "    return train_loader, val_loader, test_loader"
   ]
  },
  {
   "cell_type": "markdown",
   "metadata": {
    "id": "j6w47XiVXYeL"
   },
   "source": [
    "## Model Training\n",
    "In this tutorial we will be dealing with several models and need to have a robust pipeline for training our deep learning models. In order to facilitate this process, we will create a function that takes care of training our models given the architecture, training seed and loss function. First we have to have some helper functions that take care of seeding training parameters (including the augmentation pipeline), calculating area under receiver operating curve (ROC) and also training on a single batch:"
   ]
  },
  {
   "cell_type": "code",
   "execution_count": null,
   "metadata": {
    "id": "k60YuvdkXYeL"
   },
   "outputs": [],
   "source": [
    "def seed_everything(seed: int = 42):\n",
    "    \"\"\"sets the seed for all libraries\n",
    "\n",
    "    Args:\n",
    "        seed (int, optional): seed value. Defaults to 42.\n",
    "    \"\"\"\n",
    "    random.seed(seed)\n",
    "    os.environ['PYTHONHASHSEED'] = str(seed)\n",
    "    np.random.seed(seed)\n",
    "    torch.manual_seed(seed)\n",
    "    torch.cuda.manual_seed(seed)\n",
    "    torch.backends.cudnn.deterministic = True\n",
    "    torch.backends.cudnn.benchmark = False\n",
    "    mn.utils.misc.set_determinism(seed=seed)\n",
    "\n",
    "\n",
    "class AUCMetric(object):\n",
    "    \"\"\"\n",
    "    Computes the Area Under the Curve (AUC) for binary classification.\n",
    "    \"\"\"\n",
    "    def __init__(self):\n",
    "        self.y_preds = []\n",
    "        self.y_trues = []\n",
    "\n",
    "    def __call__(self, y_pred, y_true):\n",
    "        self.y_preds.append(y_pred)\n",
    "        self.y_trues.append(y_true)\n",
    "\n",
    "    def reset(self):\n",
    "        self.y_preds = []\n",
    "        self.y_trues = []\n",
    "\n",
    "    def compute(self):\n",
    "        y_preds = torch.cat(self.y_preds, dim=0).cpu().numpy()[:, 1]\n",
    "        y_trues = torch.cat(self.y_trues, dim=0).cpu().numpy()\n",
    "        auc = roc_auc_score(y_trues, y_preds)\n",
    "        return auc\n",
    "\n",
    "def one_step(model, batch, loss_fn, optimizer, device: str = \"cuda:0\", training: bool = True):\n",
    "    \"\"\"trains the model for one step\n",
    "\n",
    "    Args:\n",
    "        model (torch.nn.Module): model\n",
    "        batch (dict): batch of data\n",
    "        loss_fn (torch.nn.Module): loss function\n",
    "        optimizer (torch.optim.Optimizer): optimizer\n",
    "        training (bool, optional): whether the model is in training mode or not. Defaults to True.\n",
    "\n",
    "    Returns:\n",
    "        float: loss value\n",
    "    \"\"\"\n",
    "    x = batch[\"img\"].to(device)\n",
    "    y = batch[\"label\"].to(device)\n",
    "\n",
    "    if training:\n",
    "        model.train()\n",
    "    else:\n",
    "        model.eval()\n",
    "\n",
    "    with torch.set_grad_enabled(training):\n",
    "        y_pred = model(x)\n",
    "        loss = loss_fn(y_pred, y)\n",
    "        if training:\n",
    "            loss.backward()\n",
    "            optimizer.step()\n",
    "            optimizer.zero_grad()\n",
    "\n",
    "    return loss.item(), torch.softmax(y_pred, dim=-1)"
   ]
  },
  {
   "cell_type": "markdown",
   "metadata": {
    "id": "7A-0InDIXYeM"
   },
   "source": [
    "Now we can write our generic training function: "
   ]
  },
  {
   "cell_type": "code",
   "execution_count": null,
   "metadata": {
    "id": "-d_d-9dhXYeM"
   },
   "outputs": [],
   "source": [
    "def train_model(architecture, loss_fn, weight_filename: str = \"best_model\", num_classes: int = 2, training_seed: int = 42, epochs: int = 10, device: str = \"cuda:0\"):\n",
    "    \"\"\"trains the model\n",
    "\n",
    "    Args:\n",
    "        architecture (torch.nn.Module): model architecture\n",
    "        train_dataloader (torch.utils.data.DataLoader): train dataloader\n",
    "        val_dataloader (torch.utils.data.DataLoader): validation dataloader\n",
    "        loss_fn (torch.nn.Module): loss function\n",
    "        training_seed (int): seed value\n",
    "        epochs (int, optional): number of epochs. Defaults to 10.\n",
    "        device (str, optional): device to use. Defaults to \"cuda:0\".\n",
    "\n",
    "    Returns:\n",
    "        torch.nn.Module: best weights of the trained model\n",
    "    \"\"\"\n",
    "    # some hyperparameters that you can use to tune your model\n",
    "    lr = 1e-4\n",
    "    weight_decay = 1e-5\n",
    "\n",
    "    seed_everything(training_seed)\n",
    "    \n",
    "    model = timm.create_model(architecture, pretrained=False, in_chans=1, num_classes=num_classes).to(device)\n",
    "    optimizer = torch.optim.AdamW(model.parameters(), lr=lr, weight_decay=weight_decay)\n",
    "\n",
    "    best_auc = 0\n",
    "    best_model = None\n",
    "    validation_auc = AUCMetric()\n",
    "\n",
    "    train_dataloader, val_dataloader, _ = get_dataloaders()\n",
    "    for epoch in range(epochs):\n",
    "        print(f\"Epoch {epoch + 1}/{epochs}\")\n",
    "        print(\"-\" * 10)\n",
    "        train_losses = []\n",
    "        val_losses = []\n",
    "        for batch in tqdm(train_dataloader, desc=\"training\"):\n",
    "            train_loss, _ = one_step(model, batch, loss_fn, optimizer, device=device, training=True)\n",
    "            train_losses.append(train_loss)\n",
    "\n",
    "        validation_auc.reset()\n",
    "        for batch in tqdm(val_dataloader, desc=\"validating\"):\n",
    "            val_loss, y_pred = one_step(model, batch, loss_fn, optimizer, device=device, training=False)\n",
    "            val_losses.append(val_loss)\n",
    "            validation_auc(y_pred, batch[\"label\"])\n",
    "            \n",
    "        train_loss = np.mean(train_losses)\n",
    "        val_loss = np.mean(val_losses)\n",
    "        val_auc = validation_auc.compute()\n",
    "        print(f\"train loss: {train_loss:.4f}\")\n",
    "        print(f\"val loss: {val_loss:.4f}\")\n",
    "        print(f\"val auc: {val_auc:.4f}\")\n",
    "        if val_auc > best_auc:\n",
    "            best_auc = val_auc\n",
    "            best_model = copy.deepcopy(model)\n",
    "            print(\"saving best model\")\n",
    "            torch.save(best_model.state_dict(), f\"{weight_filename}.pth\")\n",
    "        print(\"\\n\")\n",
    "\n",
    "    return best_model"
   ]
  },
  {
   "cell_type": "markdown",
   "metadata": {
    "id": "Mcrgr3EDXYeN"
   },
   "source": [
    "Let's train a simple model with `CrossEntropy` loss, which is the routine practice in many deep learning projects:"
   ]
  },
  {
   "cell_type": "code",
   "execution_count": null,
   "metadata": {
    "id": "8lU19yDKXYeN"
   },
   "outputs": [],
   "source": [
    "loss_fn = torch.nn.CrossEntropyLoss()\n",
    "best_model = train_model(\n",
    "    architecture=MODEL_ARCHITECTURE,\n",
    "    loss_fn=loss_fn,\n",
    "    weight_filename=\"CE_seed_42\",\n",
    "    training_seed=42,\n",
    "    num_classes=2,\n",
    "    epochs=EPOCHS,\n",
    "    device=DEVICE\n",
    ")"
   ]
  },
  {
   "cell_type": "markdown",
   "metadata": {
    "id": "LpZzXhDNXYeO"
   },
   "source": [
    "Now let's checkout our model's calibration curve:"
   ]
  },
  {
   "cell_type": "code",
   "execution_count": null,
   "metadata": {
    "id": "J-8QYXUsXYeO",
    "outputId": "36bfcd5f-83ad-43ed-a5b6-708f0f63945e"
   },
   "outputs": [
    {
     "name": "stderr",
     "output_type": "stream",
     "text": [
      "100%|██████████| 624/624 [00:48<00:00, 12.74it/s]\n"
     ]
    }
   ],
   "source": [
    "def get_inference_results(weight_path, set_name='val'):\n",
    "    model = timm.create_model(MODEL_ARCHITECTURE, pretrained=False, in_chans=1, num_classes=2).to(DEVICE)\n",
    "    model.load_state_dict(torch.load(weight_path))\n",
    "    model.eval()\n",
    "    if set_name == 'val':\n",
    "        _, dataloader, _ = get_dataloaders()\n",
    "    elif set_name == 'test':\n",
    "        _, _, dataloader = get_dataloaders()\n",
    "    else:\n",
    "        raise ValueError('set_name must be val or test')\n",
    "    y_preds = []\n",
    "    y_true = []\n",
    "    with torch.no_grad():\n",
    "        for batch in tqdm(dataloader):\n",
    "            x = batch[\"img\"].to(DEVICE)\n",
    "            y = batch[\"label\"].to(DEVICE)\n",
    "            y_pred = model(x)\n",
    "            y_preds.extend(torch.softmax(y_pred, dim=-1).cpu().numpy())\n",
    "            y_true.extend(y.cpu().numpy())\n",
    "\n",
    "    y_preds = np.array(y_preds)\n",
    "    y_true = np.array(y_true)\n",
    "    return np.array(y_preds), np.array(y_true)\n",
    "\n",
    "y_preds, y_true = get_inference_results(\"CE_seed_42.pth\", set_name='test')"
   ]
  },
  {
   "cell_type": "code",
   "execution_count": null,
   "metadata": {
    "id": "hYemFe1vXYeP",
    "outputId": "288b2c7d-df9c-45b6-bd13-4b8c179993ee"
   },
   "outputs": [
    {
     "data": {
      "image/png": "[encoded data removed]",
      "text/plain": [
       "<Figure size 720x720 with 1 Axes>"
      ]
     },
     "metadata": {
      "needs_background": "light"
     },
     "output_type": "display_data"
    }
   ],
   "source": [
    "def plot_calibration_curve(y_true, y_pred, n_bins=10, normalize=True, title=\"Calibration Curve\", ax=None):\n",
    "    \"\"\"plots calibration curve\n",
    "\n",
    "    Args:\n",
    "        y_true (np.array): true labels\n",
    "        y_pred (np.array): predicted labels\n",
    "        n_bins (int, optional): number of bins. Defaults to 10.\n",
    "        normalize (bool, optional): whether to normalize the data or not. Defaults to True.\n",
    "        title (str, optional): title of the plot. Defaults to \"Calibration Curve\".\n",
    "        ax (matplotlib.axes.Axes, optional): axes to plot on. Defaults to None.\n",
    "\n",
    "    Returns:\n",
    "        matplotlib.axes.Axes: axes\n",
    "    \"\"\"\n",
    "    if ax is None:\n",
    "        _, ax = plt.subplots(1, 1, figsize=(10, 10))\n",
    "    fraction_of_positives, mean_predicted_value = calibration_curve(y_true, y_pred, n_bins=n_bins)\n",
    "    ax.plot(mean_predicted_value, fraction_of_positives, \"s-\")\n",
    "    ax.plot([0, 1], [0, 1], \"--\", color=\"gray\")\n",
    "    ax.set_ylabel(\"Fraction of positives\")\n",
    "    ax.set_ylim([-0.05, 1.05])\n",
    "    ax.set_xlabel(\"Mean predicted value\")\n",
    "    ax.set_title(title)\n",
    "    return ax\n",
    "\n",
    "plot_calibration_curve(y_true, y_preds[:, 1], title=\"Calibration Curve (before calibration)\");"
   ]
  },
  {
   "cell_type": "markdown",
   "metadata": {
    "id": "46-kulrHXYeP"
   },
   "source": [
    "After training our model, the next step toward having a more representative model is to calibrate our model's predictions. To do this, we use the `netcal` package:"
   ]
  },
  {
   "cell_type": "code",
   "execution_count": null,
   "metadata": {
    "id": "4abtIeg6XYeP",
    "outputId": "dac05436-c1e1-42c5-cdbd-87ae81315c93"
   },
   "outputs": [
    {
     "data": {
      "image/png": "[encoded data removed]",
      "text/plain": [
       "<Figure size 720x720 with 1 Axes>"
      ]
     },
     "metadata": {
      "needs_background": "light"
     },
     "output_type": "display_data"
    }
   ],
   "source": [
    "from netcal.binning import IsotonicRegression\n",
    "\n",
    "calibrator = IsotonicRegression()\n",
    "calibrator.fit(y_preds, y_true)\n",
    "y_preds_calibrated = calibrator.transform(y_preds)\n",
    "plot_calibration_curve(y_true, y_preds_calibrated);"
   ]
  },
  {
   "cell_type": "markdown",
   "metadata": {
    "id": "xIcVwseLXYeP"
   },
   "source": [
    "## UQ Techniques: Ensemble\n",
    "To use this technique, we have to train our model with different initialization seeds. Then we can run a single image through all of those models and get a mean and standard deviation of their prediction. *The higher the standard deviation, the more uncertain the models are.*"
   ]
  },
  {
   "cell_type": "code",
   "execution_count": null,
   "metadata": {
    "id": "yQ31emQTXYeP",
    "outputId": "e73c7ca0-9f57-43fc-b0c1-d4e8cdcabf6c"
   },
   "outputs": [
    {
     "name": "stdout",
     "output_type": "stream",
     "text": [
      "Epoch 1/3\n",
      "----------\n"
     ]
    },
    {
     "name": "stderr",
     "output_type": "stream",
     "text": [
      "training: 100%|██████████| 163/163 [00:51<00:00,  3.15it/s]\n",
      "validating: 100%|██████████| 3/3 [00:00<00:00,  4.91it/s]\n"
     ]
    },
    {
     "name": "stdout",
     "output_type": "stream",
     "text": [
      "train loss: 0.5695\n",
      "val loss: 0.8252\n",
      "val auc: 0.9351\n",
      "saving best model\n",
      "\n",
      "\n",
      "Epoch 2/3\n",
      "----------\n"
     ]
    },
    {
     "name": "stderr",
     "output_type": "stream",
     "text": [
      "training: 100%|██████████| 163/163 [00:51<00:00,  3.16it/s]\n",
      "validating: 100%|██████████| 3/3 [00:00<00:00,  5.92it/s]\n"
     ]
    },
    {
     "name": "stdout",
     "output_type": "stream",
     "text": [
      "train loss: 0.4704\n",
      "val loss: 0.7985\n",
      "val auc: 0.9319\n",
      "\n",
      "\n",
      "Epoch 3/3\n",
      "----------\n"
     ]
    },
    {
     "name": "stderr",
     "output_type": "stream",
     "text": [
      "training: 100%|██████████| 163/163 [00:51<00:00,  3.15it/s]\n",
      "validating: 100%|██████████| 3/3 [00:00<00:00,  5.45it/s]\n"
     ]
    },
    {
     "name": "stdout",
     "output_type": "stream",
     "text": [
      "train loss: 0.4718\n",
      "val loss: 1.0064\n",
      "val auc: 0.9415\n",
      "saving best model\n",
      "\n",
      "\n"
     ]
    }
   ],
   "source": [
    "ensemble_models = [best_model]\n",
    "training_seeds = [42, 43]\n",
    "loss_fn = torch.nn.CrossEntropyLoss()\n",
    "for seed in training_seeds[1:]: # we already trained the first model (seed=42)\n",
    "    print(\"*\" * 40)\n",
    "    print(f\"Training model with seed {seed}\")\n",
    "    print(\"*\" * 40)\n",
    "    ensemble_models.append(train_model(\n",
    "        architecture=MODEL_ARCHITECTURE,\n",
    "        loss_fn=loss_fn,\n",
    "        weight_filename=f\"seed_{seed}\",\n",
    "        training_seed=seed,\n",
    "        num_classes=2,\n",
    "        epochs=EPOCHS,\n",
    "        device=DEVICE\n",
    "    ))"
   ]
  },
  {
   "cell_type": "code",
   "execution_count": null,
   "metadata": {
    "id": "GyL0n5bSXYeQ",
    "outputId": "26977b2a-6c81-42eb-b686-8909ee81db26"
   },
   "outputs": [
    {
     "name": "stderr",
     "output_type": "stream",
     "text": [
      "100%|██████████| 2/2 [00:00<00:00, 27.45it/s]\n"
     ]
    },
    {
     "name": "stdout",
     "output_type": "stream",
     "text": [
      "Predicted label: 0.8833 (SD: 0.0449)\n",
      "True label: 1\n",
      "\n"
     ]
    },
    {
     "name": "stderr",
     "output_type": "stream",
     "text": [
      "100%|██████████| 2/2 [00:00<00:00, 38.62it/s]\n"
     ]
    },
    {
     "name": "stdout",
     "output_type": "stream",
     "text": [
      "Predicted label: 0.9315 (SD: 0.0059)\n",
      "True label: 1\n",
      "\n"
     ]
    },
    {
     "name": "stderr",
     "output_type": "stream",
     "text": [
      "100%|██████████| 2/2 [00:00<00:00, 22.78it/s]\n"
     ]
    },
    {
     "name": "stdout",
     "output_type": "stream",
     "text": [
      "Predicted label: 0.9285 (SD: 0.0067)\n",
      "True label: 1\n",
      "\n"
     ]
    },
    {
     "name": "stderr",
     "output_type": "stream",
     "text": [
      "100%|██████████| 2/2 [00:00<00:00, 21.12it/s]\n"
     ]
    },
    {
     "name": "stdout",
     "output_type": "stream",
     "text": [
      "Predicted label: 0.6074 (SD: 0.0965)\n",
      "True label: 0\n",
      "\n"
     ]
    },
    {
     "name": "stderr",
     "output_type": "stream",
     "text": [
      "100%|██████████| 2/2 [00:00<00:00, 37.33it/s]\n"
     ]
    },
    {
     "name": "stdout",
     "output_type": "stream",
     "text": [
      "Predicted label: 0.4223 (SD: 0.0654)\n",
      "True label: 0\n",
      "\n"
     ]
    },
    {
     "name": "stderr",
     "output_type": "stream",
     "text": [
      "100%|██████████| 2/2 [00:00<00:00, 35.06it/s]\n"
     ]
    },
    {
     "name": "stdout",
     "output_type": "stream",
     "text": [
      "Predicted label: 0.9821 (SD: 0.0002)\n",
      "True label: 0\n",
      "\n"
     ]
    }
   ],
   "source": [
    "_, _, test_dataloader = get_dataloaders()\n",
    "for i, item in enumerate(test_dataloader):\n",
    "    if i >= 3 and i < (len(test_dataloader) - 3):\n",
    "        continue # we only need a few samples\n",
    "\n",
    "    img = item[\"img\"].to(DEVICE)\n",
    "    label = item[\"label\"].to(DEVICE)\n",
    "    y_preds = []\n",
    "    for model in tqdm(ensemble_models):\n",
    "        model.eval()\n",
    "        with torch.no_grad():\n",
    "            y_pred = model(img)\n",
    "            y_preds.append(torch.softmax(y_pred, dim=-1).cpu().numpy()[:, 1].item())\n",
    "    y_preds = np.array(y_preds)\n",
    "    mean_pred = np.mean(y_preds)\n",
    "    std_pred = np.std(y_preds)\n",
    "    print(f\"Predicted label: {mean_pred:.4f} (SD: {std_pred:.4f})\")\n",
    "    print(f\"True label: {label.item()}\")\n",
    "    print()"
   ]
  },
  {
   "cell_type": "markdown",
   "metadata": {
    "id": "dyap7vY0XYeQ"
   },
   "source": [
    "## UQ Techniques: Monte Carlo Dropout\n",
    "\n",
    "**What is dropout?**\n",
    "\n",
    "A technique used during training in which we randomly set some of the neurons in a neural network to zero.\n",
    "![dropout.jpeg](data:image/jpeg;base64,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)\n",
    "\n",
    "Image source: https://medium.com/@amarbudhiraja/https-medium-com-amarbudhiraja-learning-less-to-learn-better-dropout-in-deep-machine-learning-74334da4bfc5\n",
    "\n",
    "**What's dropout function?**\n",
    "\n",
    "This helps to prevent overfitting and improves the generalization of the model. \n",
    "\n",
    "**What is Monte Carlo dropout? How do we qunatify uncertainty with it?**\n",
    "\n",
    "Training is finished and during inference we simply pass the same inputs (test set) through the trained model with different dropout masks applied at each pass. \n",
    "Each pass generates a different prediction for the input, which we can be treated as a sample from a probability distribution over the outputs.\n",
    "\n",
    "We can then calculate various statistics on the set of predictions, such as the mean, variance, or percentiles. These statistics can be used to estimate the model's uncertainty and assess how confident we should be in its predictions.\n",
    "\n",
    "*The higher the standard deviation, the more uncertain a model is.*"
   ]
  },
  {
   "cell_type": "code",
   "execution_count": null,
   "metadata": {
    "id": "L_nrvABRXYeQ",
    "outputId": "2d318f72-eedc-4622-df36-1e4a0ae643f7"
   },
   "outputs": [
    {
     "name": "stdout",
     "output_type": "stream",
     "text": [
      "Predicted label: 0.9282 (SD: 0.0000)\n",
      "True label: 1\n",
      "\n",
      "Predicted label: 0.9373 (SD: 0.0000)\n",
      "True label: 1\n",
      "\n",
      "Predicted label: 0.9352 (SD: 0.0000)\n",
      "True label: 1\n",
      "\n",
      "Predicted label: 0.7039 (SD: 0.0000)\n",
      "True label: 0\n",
      "\n",
      "Predicted label: 0.4877 (SD: 0.0000)\n",
      "True label: 0\n",
      "\n",
      "Predicted label: 0.9820 (SD: 0.0000)\n",
      "True label: 0\n",
      "\n"
     ]
    }
   ],
   "source": [
    "model = best_model\n",
    "model.eval()\n",
    "number_of_iterations = 10 # number of iterations to run the dropout\n",
    "# turn on dropout\n",
    "for m in model.modules():\n",
    "    if m.__class__.__name__.startswith(\"Dropout\"):\n",
    "        m.train()\n",
    "        m.p = 0.1\n",
    "\n",
    "_, _, test_dataloader = get_dataloaders()\n",
    "for i, item in enumerate(test_dataloader):\n",
    "    if i >= 3 and i < (len(test_dataloader) - 3):\n",
    "        continue # we only need a few samples\n",
    "\n",
    "    img = item[\"img\"].to(DEVICE)\n",
    "    label = item[\"label\"].to(DEVICE)\n",
    "    y_preds = []\n",
    "\n",
    "    with torch.no_grad():\n",
    "        for i in range(number_of_iterations):\n",
    "            y_pred = model(img)\n",
    "            y_preds.append(torch.softmax(y_pred, dim=-1).cpu().numpy()[:, 1].item())\n",
    "    \n",
    "    y_preds = np.array(y_preds)\n",
    "    mean_pred = np.mean(y_preds)\n",
    "    std_pred = np.std(y_preds)\n",
    "    print(f\"Predicted label: {mean_pred:.4f} (SD: {std_pred:.4f})\")\n",
    "    print(f\"True label: {label.item()}\")\n",
    "    print()"
   ]
  },
  {
   "cell_type": "markdown",
   "metadata": {
    "id": "0tjpol_PXYeQ"
   },
   "source": [
    "## UQ Techniques: Evidential Deep Learning\n",
    "As opposed to previouse methods evidential deep learning (EDL) is not a post-hoc (inference based) method. It requires training with specific loss functions. These specific loss functions (from now on we will refer to them as EDL losses) will assist the model in predicting a Dirichlet distribution for every input data point. In other words, the logits generated by our model will no longer be fed to a SoftMax layer, but will instead be slightly modified and interpreted as the alpha parameters of a Dirichlet distribution. The following cell demonstrates how this loss function is defined:\n",
    "\n",
    "\n",
    "---\n",
    ">\n",
    "There are multiple ways to define the EDL loss function. For an extensive discussion of this topic, please refer to the [original paper](https://proceedings.neurips.cc/paper/2018/file/a981f2b708044d6fb4a71a1463242520-Paper.pdf).\n",
    "\n",
    "---"
   ]
  },
  {
   "cell_type": "markdown",
   "metadata": {
    "id": "FU3O6UlEs0Rg"
   },
   "source": [
    "#### Let's start with a question?\n",
    "\n",
    "If the probability of a chest X-ray (CXR) showing pneumonia in a given population is 0.2, and the probability of a normal CXR is 0.8, what is the likelihood of randomly selecting ten CXRs and observing only three of them showing pneumonia? "
   ]
  },
  {
   "cell_type": "code",
   "execution_count": null,
   "metadata": {
    "colab": {
     "base_uri": "https://localhost:8080/",
     "height": 313
    },
    "id": "4dHmbSVItAgn",
    "outputId": "9492aee4-a56b-4b00-dcc0-e915db17856c"
   },
   "outputs": [
    {
     "name": "stdout",
     "output_type": "stream",
     "text": [
      "The probability of selecting 3 CXRs showing pneumonia out of 10 is 0.2013\n"
     ]
    },
    {
     "data": {
      "image/png": "[encoded data removed]",
      "text/plain": [
       "<Figure size 432x288 with 1 Axes>"
      ]
     },
     "metadata": {
      "needs_background": "light"
     },
     "output_type": "display_data"
    }
   ],
   "source": [
    "# We will use bi(multi)nomial distribution to calculate the probabilities.\n",
    "# Define variables\n",
    "n = 10  # total number of CXRs\n",
    "k = 3  # number of CXRs showing pneumonia\n",
    "p_pneumonia = 0.2  # probability of CXR showing pneumonia\n",
    "p_normal = 0.8  # probability of CXR being normal\n",
    "\n",
    "# Calculate the probability\n",
    "def calculate_probability (k,n = 10 , p_pneumonia = 0.2, p_normal = 0.8):\n",
    "  prob = (math.comb(n, k) * pow(p_pneumonia, k) * pow(p_normal, n-k))\n",
    "  return prob\n",
    "\n",
    "# Print the result\n",
    "print(f\"The probability of selecting 3 CXRs showing pneumonia out of 10 is {calculate_probability(k=3):.4f}\")\n",
    "#Plot the distribiution\n",
    "probabilities = []\n",
    "for i in range(n+1):\n",
    "  probability = calculate_probability(k= i)\n",
    "  probabilities.append(probability)\n",
    "plt.bar(range(n+1), probabilities);\n",
    "plt.xlabel(\"Number of expected CXRs with pneumonia\");\n",
    "plt.ylabel(\"Probability\");\n",
    "plt.title(\"Binomial distribution of CXRs with pneumonia\");"
   ]
  },
  {
   "cell_type": "markdown",
   "metadata": {
    "id": "-pOSBhXevYne"
   },
   "source": [
    "We solved the above problem with the assumption that the probabilities are known, but what if instead of knowing the exact probabilities, we want to first estimate the probabilities and then use those estimated probabilities to answer the above question? For instance, what is the likelihood of randomly selecting ten CXRs and observing only three of them showing pneumonia, if in a sample of 10 CXRs we find 2 CXRs with pneumonia and 8 normal CXRS.\n",
    "\n",
    "Answer: Dirichlet distribustion is all you need!\n",
    "\n",
    "### [Dirichlet distribustion](https://https://en.wikipedia.org/wiki/Dirichlet_distribution) (Distribiution of distribution!!):\n",
    "(Dirichlet distribution is the multivariabel form of [Beta distribution](https://https://en.wikipedia.org/wiki/Beta_distribution) )\n",
    "$$ f(\\mathbf{x};\\boldsymbol{\\alpha}) = \\frac{1}{B(\\boldsymbol{\\alpha})}\\prod_{i=1}^{r}x_i^{\\alpha_i-1} $$\n",
    "\n",
    "##### where:\n",
    "$$ \\alpha_i = e_i + 1 $$ (eᵢ is the logit of *i* th class)\n",
    "$$ S = \\sum\\limits_{i=1}^K \\alpha_i $$\n",
    "K is the number of classes (in this example K=2).\n",
    "##### Let's calculate the estimate of probabilities and uncertainty of the prediction:\n",
    "\\begin{align*}\n",
    "u &= \\frac{K}{S} &\\qquad& \\hat{p} = \\frac{\\alpha_k}{S}\n",
    "\\end{align*}\n",
    "So all we need to claculate probabilities and uncertainty is evidence!\n",
    "\n",
    "# How to train our DL model to learn to collect evidences?\n",
    "We need a proper loss function!\n",
    "\\begin{equation}\n",
    "\\begin{aligned}\n",
    "L_i(\\Theta) &= Z(X) - \\frac{1}{B(\\alpha_i)}\\sum_{j=1}^{K} y_{ij}\\log(p_{ij}) + (\\alpha_{ij} - 1)\\log(p_{ij}) \\\n",
    "&= \\sum_{j=1}^{K} y_{ij}\\left(\\psi(S_i)-\\psi(\\alpha_{ij})\\right) + \\log(B(\\alpha_i)) - \\log(Z(X)) \\\n",
    "&\\quad - \\sum_{j=1}^{K} \\log(y_{ij}!) + (\\alpha_{ij}-1)\\log(p_{ij}) \\\n",
    "\\end{aligned}\n",
    "\\end{equation}\n",
    "\n",
    "# Is that enough? No \n",
    "\\begin{equation}\n",
    "L(\\Theta) = \\frac{1}{N}\\sum_{i=1}^{N} L_i(\\Theta) + \\lambda_t \\sum_{i=1}^{N} \\mathrm{KL}\\left[D\\left(p_i | \\tilde{\\alpha_i}\\right) | D\\left(p_i | 1, \\ldots, 1\\right)\\right]\n",
    "\\end{equation}\n",
    "where:\n",
    "\\begin{equation}\n",
    "\\mathrm{KL}\\left[D\\left(p_i | \\tilde{\\alpha_i}\\right) | D\\left(p_i | 1\\right)\\right] = \\log \\frac{\\Gamma\\left(\\sum_{k=1}^{K} \\tilde{\\alpha}{ik}\\right)}{\\Gamma(K)} + \\sum{k=1}^{K} \\left(\\tilde{\\alpha}{ik} - 1\\right)\\left(\\psi(\\tilde{\\alpha}{ik}) - \\psi\\left(\\sum_{j=1}^{K} \\tilde{\\alpha}_{ij}\\right)\\right)\n",
    "\\end{equation}\n",
    "But don't worry about the math the following functions will take care all of these!"
   ]
  },
  {
   "cell_type": "code",
   "execution_count": null,
   "metadata": {
    "id": "ZjJQ_QwsXYeQ",
    "outputId": "281fe57c-30bb-4ecf-ad9f-a2e8306a3d0d"
   },
   "outputs": [
    {
     "name": "stdout",
     "output_type": "stream",
     "text": [
      "torch.Size([10]) torch.Size([10, 2])\n"
     ]
    },
    {
     "data": {
      "text/plain": [
       "tensor(0.8187)"
      ]
     },
     "execution_count": 19,
     "metadata": {},
     "output_type": "execute_result"
    }
   ],
   "source": [
    "class EDLLoss(torch.nn.Module):\n",
    "    def __init__(self, annealing_step=0, num_classes=2):\n",
    "        super().__init__()\n",
    "        self.num_classes = num_classes\n",
    "        self.annealing_step = annealing_step\n",
    "    \n",
    "    def _get_evidence(self, y):\n",
    "        return torch.nn.functional.softplus(y)\n",
    "\n",
    "    def _kl_divergence(self, alpha):\n",
    "        device = alpha.device\n",
    "        ones = torch.ones([1, self.num_classes], dtype=torch.float32, device=device)\n",
    "        alpha_sum = torch.sum(alpha, dim=1, keepdim=True)\n",
    "        first_term = (\n",
    "            torch.lgamma(alpha_sum)\n",
    "            - torch.lgamma(alpha).sum(dim=1, keepdim=True)\n",
    "            + torch.lgamma(ones).sum(dim=1, keepdim=True)\n",
    "            - torch.lgamma(ones.sum(dim=1, keepdim=True))\n",
    "        )\n",
    "        second_term = (\n",
    "            (alpha - ones)\n",
    "            .mul(torch.digamma(alpha) - torch.digamma(alpha_sum))\n",
    "            .sum(dim=1, keepdim=True)\n",
    "        )\n",
    "        kl = first_term + second_term\n",
    "        return kl\n",
    "    \n",
    "    def _loglikelihood_loss(self, y, alpha):\n",
    "        device = alpha.device\n",
    "        y = y.to(device)\n",
    "        alpha = alpha.to(device)\n",
    "        alpha_sum = torch.sum(alpha, dim=1, keepdim=True)\n",
    "        loglikelihood_err = torch.sum((y - (alpha / alpha_sum)) ** 2, dim=1, keepdim=True)\n",
    "        loglikelihood_var = torch.sum(alpha * (alpha_sum - alpha) / (alpha_sum * alpha_sum * (alpha_sum + 1)), dim=1, keepdim=True)\n",
    "        loglikelihood = loglikelihood_err + loglikelihood_var\n",
    "        return loglikelihood\n",
    "\n",
    "    def __call__(self, output, target, epoch_num=None):\n",
    "        evidence = self._get_evidence(output)\n",
    "        alpha = evidence + 1\n",
    "        device = alpha.device\n",
    "        if target.ndim == 1:\n",
    "            y = torch.nn.functional.one_hot(target, num_classes=self.num_classes).float().to(device)\n",
    "        else:\n",
    "            y = target.to(device)\n",
    "        alpha = alpha.to(device)\n",
    "        loglikelihood = self._loglikelihood_loss(y, alpha)\n",
    "        if self.annealing_step!= 0:\n",
    "            assert epoch_num is not None, \"epoch_num must be provided when using annealing\"\n",
    "            annealing_coef = torch.min(\n",
    "                torch.tensor(1.0, dtype=torch.float32),\n",
    "                torch.tensor(epoch_num / self.annealing_step, dtype=torch.float32),\n",
    "            )\n",
    "        else:\n",
    "            annealing_coef = 1.0\n",
    "        kl_alpha = (alpha - 1) * (1 - y) + 1\n",
    "        kl_div = annealing_coef * self._kl_divergence(kl_alpha)\n",
    "        loss = (loglikelihood + kl_div).mean()\n",
    "        return loss\n",
    "\n",
    "# Dummy test\n",
    "loss = EDLLoss()\n",
    "trues = torch.randint(0, 2, (10,))\n",
    "preds = torch.randn(10, 2)\n",
    "print(trues.shape, preds.shape)\n",
    "loss(preds, trues)"
   ]
  },
  {
   "cell_type": "markdown",
   "metadata": {
    "id": "8JdBMElFXYeR"
   },
   "source": [
    "Now let's retrain our model with the EDL loss function:"
   ]
  },
  {
   "cell_type": "code",
   "execution_count": null,
   "metadata": {
    "id": "opFSnYYvXYeR",
    "outputId": "8feb700d-9596-41da-a86e-a48b854f4561"
   },
   "outputs": [
    {
     "name": "stdout",
     "output_type": "stream",
     "text": [
      "Epoch 1/3\n",
      "----------\n"
     ]
    },
    {
     "name": "stderr",
     "output_type": "stream",
     "text": [
      "training: 100%|██████████| 163/163 [02:41<00:00,  1.01it/s]\n",
      "validating: 100%|██████████| 1/1 [00:00<00:00,  2.29it/s]\n"
     ]
    },
    {
     "name": "stdout",
     "output_type": "stream",
     "text": [
      "train loss: 0.5366\n",
      "val loss: 0.5096\n",
      "val auc: 0.9375\n",
      "saving best model\n",
      "\n",
      "\n",
      "Epoch 2/3\n",
      "----------\n"
     ]
    },
    {
     "name": "stderr",
     "output_type": "stream",
     "text": [
      "training: 100%|██████████| 163/163 [02:41<00:00,  1.01it/s]\n",
      "validating: 100%|██████████| 1/1 [00:00<00:00,  2.06it/s]\n"
     ]
    },
    {
     "name": "stdout",
     "output_type": "stream",
     "text": [
      "train loss: 0.4758\n",
      "val loss: 0.5218\n",
      "val auc: 0.9375\n",
      "\n",
      "\n",
      "Epoch 3/3\n",
      "----------\n"
     ]
    },
    {
     "name": "stderr",
     "output_type": "stream",
     "text": [
      "training: 100%|██████████| 163/163 [02:41<00:00,  1.01it/s]\n",
      "validating: 100%|██████████| 1/1 [00:00<00:00,  2.09it/s]\n"
     ]
    },
    {
     "name": "stdout",
     "output_type": "stream",
     "text": [
      "train loss: 0.4683\n",
      "val loss: 0.5155\n",
      "val auc: 0.9688\n",
      "saving best model\n",
      "\n",
      "\n"
     ]
    }
   ],
   "source": [
    "loss_fn = EDLLoss()\n",
    "edl_model = train_model(\n",
    "    architecture=MODEL_ARCHITECTURE,\n",
    "    loss_fn=loss_fn,\n",
    "    weight_filename=f\"edl_seed_42\",\n",
    "    training_seed=42,\n",
    "    num_classes=2,\n",
    "    epochs=3,\n",
    "    device=DEVICE\n",
    ")"
   ]
  },
  {
   "cell_type": "markdown",
   "metadata": {
    "id": "1BJu6DgMXYeR"
   },
   "source": [
    "Finally, we can apply our model to a single image and perform a handful of calculations to obtain the calibrated probabilities and the prediction's uncertainty:"
   ]
  },
  {
   "cell_type": "code",
   "execution_count": null,
   "metadata": {
    "id": "I1pv4QC0XYeR"
   },
   "outputs": [],
   "source": [
    "def get_edl_probs(y_preds):\n",
    "    if type(y_preds) != torch.Tensor:\n",
    "        y_preds = torch.tensor(y_preds)\n",
    "    evidence = torch.nn.functional.relu(y_preds)\n",
    "    alpha = evidence + 1\n",
    "    alpha_sum = torch.sum(alpha, dim=1, keepdim=True)\n",
    "    probs = alpha / alpha_sum\n",
    "    uncertainties = y_preds.shape[1] / alpha_sum\n",
    "    return probs, uncertainties"
   ]
  },
  {
   "cell_type": "code",
   "execution_count": null,
   "metadata": {
    "id": "OJPImd-aXYeR",
    "outputId": "06c942f3-aac0-4a98-bf09-506e2263ce9f"
   },
   "outputs": [
    {
     "name": "stderr",
     "output_type": "stream",
     "text": [
      "100%|██████████| 1/1 [00:00<00:00,  2.36it/s]"
     ]
    },
    {
     "name": "stdout",
     "output_type": "stream",
     "text": [
      "Label: 1 | Prediction: 1 | Probablity: 0.667 | Uncertainty: 0.667\n",
      "Label: 1 | Prediction: 1 | Probablity: 0.667 | Uncertainty: 0.667\n",
      "Label: 1 | Prediction: 1 | Probablity: 0.667 | Uncertainty: 0.667\n",
      "Label: 1 | Prediction: 1 | Probablity: 0.667 | Uncertainty: 0.667\n",
      "Label: 1 | Prediction: 1 | Probablity: 0.667 | Uncertainty: 0.667\n",
      "Label: 1 | Prediction: 1 | Probablity: 0.667 | Uncertainty: 0.667\n",
      "Label: 1 | Prediction: 1 | Probablity: 0.667 | Uncertainty: 0.667\n",
      "Label: 1 | Prediction: 1 | Probablity: 0.667 | Uncertainty: 0.667\n",
      "Label: 0 | Prediction: 1 | Probablity: 0.667 | Uncertainty: 0.667\n",
      "Label: 0 | Prediction: 1 | Probablity: 0.666 | Uncertainty: 0.667\n",
      "Label: 0 | Prediction: 0 | Probablity: 0.508 | Uncertainty: 0.667\n",
      "Label: 0 | Prediction: 1 | Probablity: 0.661 | Uncertainty: 0.667\n",
      "Label: 0 | Prediction: 1 | Probablity: 0.630 | Uncertainty: 0.667\n",
      "Label: 0 | Prediction: 1 | Probablity: 0.666 | Uncertainty: 0.667\n",
      "Label: 0 | Prediction: 1 | Probablity: 0.648 | Uncertainty: 0.667\n",
      "Label: 0 | Prediction: 1 | Probablity: 0.667 | Uncertainty: 0.667\n"
     ]
    },
    {
     "name": "stderr",
     "output_type": "stream",
     "text": [
      "\n"
     ]
    }
   ],
   "source": [
    "y_preds, y_true = get_inference_results(\"edl_seed_42.pth\")\n",
    "y_probs, uncertainties = get_edl_probs(y_preds)\n",
    "\n",
    "for label, prob, uncertainty in zip(y_true, y_probs, uncertainties):\n",
    "    # print(label, prob, uncertainty)\n",
    "    print(f\"Label: {label} | Prediction: {prob.argmax()} | Probablity: {prob.max().item():.3f} | Uncertainty: {uncertainty.item():.3f}\")"
   ]
  },
  {
   "cell_type": "markdown",
   "metadata": {
    "id": "c7uuwZyGXYeS"
   },
   "source": [
    "**Thank you for taking part in this tutorial!**"
   ]
  }
 ],
 "metadata": {
  "colab": {
   "provenance": []
  },
  "kernelspec": {
   "display_name": "Python 3",
   "language": "python",
   "name": "python3"
  },
  "language_info": {
   "codemirror_mode": {
    "name": "ipython",
    "version": 3
   },
   "file_extension": ".py",
   "mimetype": "text/x-python",
   "name": "python",
   "nbconvert_exporter": "python",
   "pygments_lexer": "ipython3",
   "version": "3.10.13"
  },
  "vscode": {
   "interpreter": {
    "hash": "cc6ff07f87616469d422ad524ecd6a5db81cfcdcd9038a5dac439635293baaa6"
   }
  }
 },
 "nbformat": 4,
 "nbformat_minor": 4
}
